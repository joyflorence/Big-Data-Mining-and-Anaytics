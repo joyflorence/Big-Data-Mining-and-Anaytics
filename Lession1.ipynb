{
 "cells": [
  {
   "cell_type": "code",
   "execution_count": 1,
   "id": "1dec4a6f",
   "metadata": {},
   "outputs": [],
   "source": [
    "import pandas as pd\n",
    "import matplotlib.pyplot as plt\n",
    "from scipy.stats import pearsonr,chi2_contingency, f_oneway\n",
    "import seaborn as sns"
   ]
  },
  {
   "cell_type": "code",
   "execution_count": 2,
   "id": "a847b5e8",
   "metadata": {},
   "outputs": [
    {
     "data": {
      "text/html": [
       "<div>\n",
       "<style scoped>\n",
       "    .dataframe tbody tr th:only-of-type {\n",
       "        vertical-align: middle;\n",
       "    }\n",
       "\n",
       "    .dataframe tbody tr th {\n",
       "        vertical-align: top;\n",
       "    }\n",
       "\n",
       "    .dataframe thead th {\n",
       "        text-align: right;\n",
       "    }\n",
       "</style>\n",
       "<table border=\"1\" class=\"dataframe\">\n",
       "  <thead>\n",
       "    <tr style=\"text-align: right;\">\n",
       "      <th></th>\n",
       "      <th>Date</th>\n",
       "      <th>Day</th>\n",
       "      <th>Month</th>\n",
       "      <th>Year</th>\n",
       "      <th>Customer_Age</th>\n",
       "      <th>Age_Group</th>\n",
       "      <th>Customer_Gender</th>\n",
       "      <th>Country</th>\n",
       "      <th>State</th>\n",
       "      <th>Product_Category</th>\n",
       "      <th>Sub_Category</th>\n",
       "      <th>Product</th>\n",
       "      <th>Order_Quantity</th>\n",
       "      <th>Unit_Cost</th>\n",
       "      <th>Unit_Price</th>\n",
       "      <th>Profit</th>\n",
       "      <th>Cost</th>\n",
       "      <th>Revenue</th>\n",
       "    </tr>\n",
       "  </thead>\n",
       "  <tbody>\n",
       "    <tr>\n",
       "      <th>0</th>\n",
       "      <td>2017-01-01</td>\n",
       "      <td>1</td>\n",
       "      <td>January</td>\n",
       "      <td>2017</td>\n",
       "      <td>17</td>\n",
       "      <td>Youth (&lt;25)</td>\n",
       "      <td>M</td>\n",
       "      <td>Canada</td>\n",
       "      <td>British Columbia</td>\n",
       "      <td>Bikes</td>\n",
       "      <td>Road Bikes</td>\n",
       "      <td>Road-250 Red, 44</td>\n",
       "      <td>2</td>\n",
       "      <td>1519</td>\n",
       "      <td>2443</td>\n",
       "      <td>1848</td>\n",
       "      <td>3038</td>\n",
       "      <td>4886</td>\n",
       "    </tr>\n",
       "    <tr>\n",
       "      <th>1</th>\n",
       "      <td>2017-01-01</td>\n",
       "      <td>1</td>\n",
       "      <td>January</td>\n",
       "      <td>2017</td>\n",
       "      <td>23</td>\n",
       "      <td>Youth (&lt;25)</td>\n",
       "      <td>M</td>\n",
       "      <td>Australia</td>\n",
       "      <td>Victoria</td>\n",
       "      <td>Bikes</td>\n",
       "      <td>Mountain Bikes</td>\n",
       "      <td>Mountain-200 Black, 46</td>\n",
       "      <td>2</td>\n",
       "      <td>1252</td>\n",
       "      <td>2295</td>\n",
       "      <td>2086</td>\n",
       "      <td>2504</td>\n",
       "      <td>4590</td>\n",
       "    </tr>\n",
       "    <tr>\n",
       "      <th>2</th>\n",
       "      <td>2017-01-01</td>\n",
       "      <td>1</td>\n",
       "      <td>January</td>\n",
       "      <td>2017</td>\n",
       "      <td>33</td>\n",
       "      <td>Young Adults (25-34)</td>\n",
       "      <td>F</td>\n",
       "      <td>France</td>\n",
       "      <td>Yveline</td>\n",
       "      <td>Bikes</td>\n",
       "      <td>Road Bikes</td>\n",
       "      <td>Road-150 Red, 48</td>\n",
       "      <td>2</td>\n",
       "      <td>2171</td>\n",
       "      <td>3578</td>\n",
       "      <td>2814</td>\n",
       "      <td>4342</td>\n",
       "      <td>7156</td>\n",
       "    </tr>\n",
       "    <tr>\n",
       "      <th>3</th>\n",
       "      <td>2017-01-01</td>\n",
       "      <td>1</td>\n",
       "      <td>January</td>\n",
       "      <td>2017</td>\n",
       "      <td>39</td>\n",
       "      <td>Adults (35-64)</td>\n",
       "      <td>M</td>\n",
       "      <td>United States</td>\n",
       "      <td>Washington</td>\n",
       "      <td>Bikes</td>\n",
       "      <td>Road Bikes</td>\n",
       "      <td>Road-550-W Yellow, 38</td>\n",
       "      <td>2</td>\n",
       "      <td>713</td>\n",
       "      <td>1120</td>\n",
       "      <td>814</td>\n",
       "      <td>1426</td>\n",
       "      <td>2240</td>\n",
       "    </tr>\n",
       "    <tr>\n",
       "      <th>4</th>\n",
       "      <td>2017-01-01</td>\n",
       "      <td>1</td>\n",
       "      <td>January</td>\n",
       "      <td>2017</td>\n",
       "      <td>42</td>\n",
       "      <td>Adults (35-64)</td>\n",
       "      <td>M</td>\n",
       "      <td>United States</td>\n",
       "      <td>California</td>\n",
       "      <td>Bikes</td>\n",
       "      <td>Road Bikes</td>\n",
       "      <td>Road-750 Black, 44</td>\n",
       "      <td>2</td>\n",
       "      <td>344</td>\n",
       "      <td>540</td>\n",
       "      <td>392</td>\n",
       "      <td>688</td>\n",
       "      <td>1080</td>\n",
       "    </tr>\n",
       "  </tbody>\n",
       "</table>\n",
       "</div>"
      ],
      "text/plain": [
       "        Date  Day    Month  Year  Customer_Age             Age_Group  \\\n",
       "0 2017-01-01    1  January  2017            17           Youth (<25)   \n",
       "1 2017-01-01    1  January  2017            23           Youth (<25)   \n",
       "2 2017-01-01    1  January  2017            33  Young Adults (25-34)   \n",
       "3 2017-01-01    1  January  2017            39        Adults (35-64)   \n",
       "4 2017-01-01    1  January  2017            42        Adults (35-64)   \n",
       "\n",
       "  Customer_Gender        Country             State Product_Category  \\\n",
       "0               M         Canada  British Columbia            Bikes   \n",
       "1               M      Australia          Victoria            Bikes   \n",
       "2               F         France           Yveline            Bikes   \n",
       "3               M  United States        Washington            Bikes   \n",
       "4               M  United States        California            Bikes   \n",
       "\n",
       "     Sub_Category                 Product  Order_Quantity  Unit_Cost  \\\n",
       "0      Road Bikes        Road-250 Red, 44               2       1519   \n",
       "1  Mountain Bikes  Mountain-200 Black, 46               2       1252   \n",
       "2      Road Bikes        Road-150 Red, 48               2       2171   \n",
       "3      Road Bikes   Road-550-W Yellow, 38               2        713   \n",
       "4      Road Bikes      Road-750 Black, 44               2        344   \n",
       "\n",
       "   Unit_Price  Profit  Cost  Revenue  \n",
       "0        2443    1848  3038     4886  \n",
       "1        2295    2086  2504     4590  \n",
       "2        3578    2814  4342     7156  \n",
       "3        1120     814  1426     2240  \n",
       "4         540     392   688     1080  "
      ]
     },
     "execution_count": 2,
     "metadata": {},
     "output_type": "execute_result"
    }
   ],
   "source": [
    "bike_data = pd.read_excel('Bike_Sales.xlsx')\n",
    "bike_data.head()"
   ]
  },
  {
   "cell_type": "code",
   "execution_count": 4,
   "id": "bd2a952f",
   "metadata": {},
   "outputs": [
    {
     "data": {
      "text/plain": [
       "Date                datetime64[ns]\n",
       "Day                          int64\n",
       "Month                       object\n",
       "Year                         int64\n",
       "Customer_Age                 int64\n",
       "Age_Group                   object\n",
       "Customer_Gender             object\n",
       "Country                     object\n",
       "State                       object\n",
       "Product_Category            object\n",
       "Sub_Category                object\n",
       "Product                     object\n",
       "Order_Quantity               int64\n",
       "Unit_Cost                    int64\n",
       "Unit_Price                   int64\n",
       "Profit                       int64\n",
       "Cost                         int64\n",
       "Revenue                      int64\n",
       "dtype: object"
      ]
     },
     "execution_count": 4,
     "metadata": {},
     "output_type": "execute_result"
    }
   ],
   "source": [
    "bike_data.dtypes"
   ]
  },
  {
   "cell_type": "markdown",
   "id": "349ddab2",
   "metadata": {},
   "source": [
    "### Continuous"
   ]
  },
  {
   "cell_type": "code",
   "execution_count": 5,
   "id": "ee07fa13",
   "metadata": {},
   "outputs": [
    {
     "data": {
      "image/png": "[encoded data removed]",
      "text/plain": [
       "<Figure size 640x480 with 1 Axes>"
      ]
     },
     "metadata": {},
     "output_type": "display_data"
    }
   ],
   "source": [
    "# Scatter plot\n",
    "sns.scatterplot(x=\"Order_Quantity\", y=\"Unit_Cost\", data=bike_data)\n",
    "plt.show()"
   ]
  },
  {
   "cell_type": "code",
   "execution_count": 6,
   "id": "3f355a9a",
   "metadata": {},
   "outputs": [
    {
     "name": "stdout",
     "output_type": "stream",
     "text": [
      "Pearson Correlation: -0.5158349831003335 p-value: 0.0\n"
     ]
    }
   ],
   "source": [
    "# Pearson correlation\n",
    "pearson_corr, p_value = pearsonr(bike_data[\"Order_Quantity\"], bike_data[\"Unit_Cost\"])\n",
    "print(\"Pearson Correlation:\", pearson_corr, \"p-value:\", p_value)"
   ]
  },
  {
   "cell_type": "markdown",
   "id": "1aaced3c",
   "metadata": {},
   "source": [
    "There is a negative correlation between the variables thus weak correlation"
   ]
  },
  {
   "cell_type": "markdown",
   "id": "0c85624b",
   "metadata": {},
   "source": [
    "### categorical"
   ]
  },
  {
   "cell_type": "code",
   "execution_count": null,
   "id": "5e0fd8fa",
   "metadata": {},
   "outputs": [
    {
     "data": {
      "image/png": "[encoded data removed]",
      "text/plain": [
       "<Figure size 640x480 with 1 Axes>"
      ]
     },
     "metadata": {},
     "output_type": "display_data"
    }
   ],
   "source": [
    "# bar chart\n",
    "sns.countplot(bike_data, x=\"Product_Category\", hue=\"Country\", palette=\"viridis\")\n",
    "\n",
    "plt.title(\"Relationship \")\n",
    "plt.ylabel(\"Count\")\n",
    "plt.show()"
   ]
  },
  {
   "cell_type": "code",
   "execution_count": null,
   "id": "9a9d76e9",
   "metadata": {},
   "outputs": [
    {
     "name": "stdout",
     "output_type": "stream",
     "text": [
      "p-value: 0.0\n",
      "Chi-square statistic: 2113.5363828387603\n"
     ]
    }
   ],
   "source": [
    "# --- Chi-square Test ---\n",
    "ct = pd.crosstab(bike_data[\"Product_Category\"], bike_data[\"Country\"])\n",
    "chi2, p = chi2_contingency(ct)\n",
    "print(\"p-value:\", p)\n",
    "print(\"Chi-square statistic:\", chi2)"
   ]
  },
  {
   "cell_type": "markdown",
   "id": "beb5930a",
   "metadata": {},
   "source": [
    "Since the p value is less than 0.05,\n",
    "There is a highly significant association between the two categorical variables"
   ]
  },
  {
   "cell_type": "markdown",
   "id": "1726584e",
   "metadata": {},
   "source": [
    "### continuous and categorial"
   ]
  },
  {
   "cell_type": "code",
   "execution_count": null,
   "id": "bfded5fd",
   "metadata": {},
   "outputs": [
    {
     "data": {
      "image/png": "[encoded data removed]",
      "text/plain": [
       "<Figure size 640x480 with 1 Axes>"
      ]
     },
     "metadata": {},
     "output_type": "display_data"
    }
   ],
   "source": [
    "# --- barplot ---\n",
    "sns.barplot(data=bike_data, x=\"Country\", y=\"Unit_Cost\", palette=\"Set2\", hue=\"Country\",legend=False)\n",
    "plt.title(\"Product by Unit_cost\")\n",
    "plt.show()"
   ]
  },
  {
   "cell_type": "code",
   "execution_count": null,
   "id": "42c288a3",
   "metadata": {},
   "outputs": [
    {
     "name": "stdout",
     "output_type": "stream",
     "text": [
      "ANOVA F-statistic: 354.3980320348222\n",
      "p-value: 0.0\n"
     ]
    }
   ],
   "source": [
    "# one-way ANOVA\n",
    "group = [bike_data[bike_data[\"Country\"]==country][\"Unit_Cost\"] for country in bike_data[\"Country\"].unique()]\n",
    "f_stat, p_val = f_oneway(*group)\n",
    "\n",
    "print(\"ANOVA F-statistic:\", f_stat)\n",
    "print(\"p-value:\", p_val)\n"
   ]
  },
  {
   "cell_type": "markdown",
   "id": "bd88e9f9",
   "metadata": {},
   "source": [
    "There is a highly significant difference in Unit_Cost across countries, thus\n",
    "a one-way ANOVA showed a significant effect of Country on Unit_Cost"
   ]
  }
 ],
 "metadata": {
  "kernelspec": {
   "display_name": "Python 3",
   "language": "python",
   "name": "python3"
  },
  "language_info": {
   "codemirror_mode": {
    "name": "ipython",
    "version": 3
   },
   "file_extension": ".py",
   "mimetype": "text/x-python",
   "name": "python",
   "nbconvert_exporter": "python",
   "pygments_lexer": "ipython3",
   "version": "3.13.5"
  }
 },
 "nbformat": 4,
 "nbformat_minor": 5
}
